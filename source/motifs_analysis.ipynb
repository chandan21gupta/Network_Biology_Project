{
 "cells": [
  {
   "cell_type": "code",
   "execution_count": 1,
   "metadata": {},
   "outputs": [],
   "source": [
    "from graph_construction import *\n",
    "import matplotlib.pyplot as plt\n",
    "import networkx as nx\n",
    "import numpy as np\n",
    "import random\n",
    "import netsci.metrics.motifs as nsm\n",
    "import matplotlib.pyplot as plt\n",
    "import netsci.visualization as nsv\n",
    "import copy\n",
    "import networkx.algorithms.isomorphism as iso\n",
    "import itertools"
   ]
  },
  {
   "cell_type": "code",
   "execution_count": 2,
   "metadata": {},
   "outputs": [],
   "source": [
    "celegans_network = construct_graph()\n",
    "# graph.display_graph()\n",
    "# celegans_network.display_graph()"
   ]
  },
  {
   "cell_type": "code",
   "execution_count": 3,
   "metadata": {},
   "outputs": [
    {
     "name": "stdout",
     "output_type": "stream",
     "text": [
      "277\n"
     ]
    },
    {
     "data": {
      "text/plain": [
       "2105"
      ]
     },
     "execution_count": 3,
     "metadata": {},
     "output_type": "execute_result"
    }
   ],
   "source": [
    "G = nx.from_numpy_matrix(np.matrix(celegans_network.graph), create_using=nx.DiGraph)\n",
    "print(G.number_of_nodes())\n",
    "G.number_of_edges()"
   ]
  },
  {
   "cell_type": "code",
   "execution_count": 4,
   "metadata": {},
   "outputs": [
    {
     "data": {
      "text/plain": [
       "0.17198864696251312"
      ]
     },
     "execution_count": 4,
     "metadata": {},
     "output_type": "execute_result"
    }
   ],
   "source": [
    "nx.average_clustering(G)"
   ]
  },
  {
   "cell_type": "code",
   "execution_count": 5,
   "metadata": {},
   "outputs": [
    {
     "name": "stdout",
     "output_type": "stream",
     "text": [
      "3.4332129963898916\n"
     ]
    }
   ],
   "source": [
    "# for g in nx.connected_component_subgraphs(G):\n",
    "#     print(nx.average_shortest_path_length(g))\n",
    "print(nx.average_shortest_path_length(G))"
   ]
  },
  {
   "cell_type": "code",
   "execution_count": 6,
   "metadata": {},
   "outputs": [],
   "source": [
    "def erdos_renyi(nodes, edges):\n",
    "    graph = Graph(nodes)\n",
    "    edge = 0\n",
    "    while(edge <= edges):\n",
    "        source = random.randint(0, nodes-1)\n",
    "        target = random.randint(0, nodes-1)\n",
    "        if source != target and graph.graph[source][target] != 1:\n",
    "            graph.add_edge(source, target, 1)\n",
    "            edge += 1\n",
    "    return graph.graph"
   ]
  },
  {
   "cell_type": "code",
   "execution_count": 7,
   "metadata": {},
   "outputs": [
    {
     "name": "stdout",
     "output_type": "stream",
     "text": [
      "0.02775060609196654 0.0013474614616596455\n",
      "2.985662899597133 0.01032806197579709\n"
     ]
    }
   ],
   "source": [
    "nodes = G.number_of_nodes()\n",
    "edges = G.number_of_edges()\n",
    "cc = []\n",
    "asl = []\n",
    "for i in range(50):\n",
    "    random_control = erdos_renyi(nodes, edges)\n",
    "    G_ = nx.from_numpy_matrix(np.matrix(random_control), create_using=nx.DiGraph)\n",
    "    cc.append(nx.average_clustering(G_))\n",
    "    asl.append(nx.average_shortest_path_length(G_))\n",
    "print(str(np.mean(cc))+' '+str(np.std(cc)))\n",
    "print(str(np.mean(asl))+' '+str(np.std(asl)))"
   ]
  },
  {
   "cell_type": "code",
   "execution_count": 10,
   "metadata": {},
   "outputs": [],
   "source": [
    "def motif_significance(graph, epochs_1 = 50):\n",
    "    nodes = graph.nodes\n",
    "    edges = graph.edges\n",
    "    ffm_main = nsm.motifs(np.array(graph.graph))[6]\n",
    "    print(ffm_main)\n",
    "    motif_count = []\n",
    "    for epoch_1 in range(epochs_1):\n",
    "        random_control = erdos_renyi(nodes, edges)\n",
    "        ffm_count = nsm.motifs(np.array(random_control))[6]\n",
    "        print(ffm_count)\n",
    "        motif_count.append(ffm_count)\n",
    "    return (ffm_main-np.mean(motif_count))/np.std(motif_count)"
   ]
  },
  {
   "cell_type": "code",
   "execution_count": null,
   "metadata": {},
   "outputs": [],
   "source": [
    "graph = Graph(9)\n",
    "graph.add_edge(0,1,1)\n",
    "graph.add_edge(0,3,1)\n",
    "graph.add_edge(0,4,1)\n",
    "graph.add_edge(1,2,1)\n",
    "graph.add_edge(1,5,1)\n",
    "graph.add_edge(2,8,1)\n",
    "graph.add_edge(3,1,1)\n",
    "graph.add_edge(3,4,1)\n",
    "graph.add_edge(4,2,1)\n",
    "graph.add_edge(4,7,1)\n",
    "graph.add_edge(5,6,1)\n",
    "graph.add_edge(6,7,1)\n",
    "print(feed_forward_motif(graph.graph))"
   ]
  },
  {
   "cell_type": "code",
   "execution_count": 12,
   "metadata": {},
   "outputs": [
    {
     "name": "stdout",
     "output_type": "stream",
     "text": [
      "1521\n",
      "398\n",
      "365\n",
      "373\n",
      "440\n",
      "400\n",
      "389\n",
      "435\n",
      "368\n",
      "425\n",
      "400\n",
      "433\n",
      "401\n",
      "408\n",
      "394\n",
      "397\n",
      "442\n",
      "408\n",
      "407\n",
      "396\n",
      "432\n",
      "401\n",
      "400\n",
      "383\n",
      "427\n",
      "400\n",
      "424\n",
      "389\n",
      "404\n",
      "391\n",
      "405\n",
      "391\n",
      "382\n",
      "391\n",
      "426\n",
      "430\n",
      "443\n",
      "376\n",
      "390\n",
      "395\n",
      "421\n",
      "405\n",
      "395\n",
      "406\n",
      "411\n",
      "378\n",
      "383\n",
      "408\n",
      "419\n",
      "418\n",
      "414\n",
      "57.98469621756312\n"
     ]
    }
   ],
   "source": [
    "graph = copy.deepcopy(celegans_network)\n",
    "z_score = motif_significance(graph)\n",
    "print(z_score)"
   ]
  },
  {
   "cell_type": "code",
   "execution_count": null,
   "metadata": {},
   "outputs": [],
   "source": [
    "def motif_tuning_algorithm(graph):\n",
    "    "
   ]
  }
 ],
 "metadata": {
  "kernelspec": {
   "display_name": "Python 3",
   "language": "python",
   "name": "python3"
  },
  "language_info": {
   "codemirror_mode": {
    "name": "ipython",
    "version": 3
   },
   "file_extension": ".py",
   "mimetype": "text/x-python",
   "name": "python",
   "nbconvert_exporter": "python",
   "pygments_lexer": "ipython3",
   "version": "3.6.8"
  }
 },
 "nbformat": 4,
 "nbformat_minor": 4
}
