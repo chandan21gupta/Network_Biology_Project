{
 "cells": [
  {
   "cell_type": "code",
   "execution_count": 18,
   "metadata": {},
   "outputs": [],
   "source": [
    "from graph_construction import *\n",
    "import matplotlib.pyplot as plt\n",
    "import networkx as nx\n",
    "import numpy as np\n",
    "import random\n",
    "import netsci.metrics.motifs as nsm\n",
    "import matplotlib.pyplot as plt\n",
    "import netsci.visualization as nsv\n",
    "import copy\n",
    "import networkx.algorithms.isomorphism as iso\n",
    "import itertools\n",
    "from networkx.algorithms import bipartite"
   ]
  },
  {
   "cell_type": "code",
   "execution_count": 19,
   "metadata": {},
   "outputs": [],
   "source": [
    "celegans_network = construct_graph()\n",
    "# graph.display_graph()\n",
    "# celegans_network.display_graph()"
   ]
  },
  {
   "cell_type": "code",
   "execution_count": null,
   "metadata": {},
   "outputs": [],
   "source": [
    "G = nx.from_numpy_matrix(np.matrix(celegans_network.graph), create_using=nx.DiGraph)\n",
    "print(G.number_of_nodes())\n",
    "G.number_of_edges()"
   ]
  },
  {
   "cell_type": "code",
   "execution_count": null,
   "metadata": {},
   "outputs": [],
   "source": [
    "nx.average_clustering(G)"
   ]
  },
  {
   "cell_type": "code",
   "execution_count": null,
   "metadata": {},
   "outputs": [],
   "source": [
    "# for g in nx.connected_component_subgraphs(G):\n",
    "#     print(nx.average_shortest_path_length(g))\n",
    "print(nx.average_shortest_path_length(G))"
   ]
  },
  {
   "cell_type": "code",
   "execution_count": null,
   "metadata": {},
   "outputs": [],
   "source": [
    "def erdos_renyi(nodes, edges):\n",
    "    graph = Graph(nodes)\n",
    "    edge = 0\n",
    "    while(edge <= edges):\n",
    "        source = random.randint(0, nodes-1)\n",
    "        target = random.randint(0, nodes-1)\n",
    "        if source != target and graph.graph[source][target] != 1:\n",
    "            graph.add_edge(source, target, 1)\n",
    "            edge += 1\n",
    "    return graph.graph"
   ]
  },
  {
   "cell_type": "code",
   "execution_count": null,
   "metadata": {},
   "outputs": [],
   "source": [
    "def wrong_ffms(graph):\n",
    "    nodes = len(graph)\n",
    "    count = 0\n",
    "    print('here')\n",
    "    for i in range(nodes):\n",
    "        for j in range(nodes):\n",
    "            if i != j and graph[i][j] == 1:\n",
    "                for k in range(nodes):\n",
    "                    if k != i and k != j and graph[i][k] == 1 and graph[j][k] == 1:\n",
    "                        count += 1\n",
    "    return count"
   ]
  },
  {
   "cell_type": "code",
   "execution_count": null,
   "metadata": {},
   "outputs": [],
   "source": [
    "# nodes = G.number_of_nodes()\n",
    "# edges = G.number_of_edges()\n",
    "# cc = []\n",
    "# asl = []\n",
    "# for i in range(50):\n",
    "#     random_control = erdos_renyi(nodes, edges)\n",
    "#     G_ = nx.from_numpy_matrix(np.matrix(random_control), create_using=nx.DiGraph)\n",
    "#     cc.append(nx.average_clustering(G_))\n",
    "#     asl.append(nx.average_shortest_path_length(G_))\n",
    "# print(str(np.mean(cc))+' '+str(np.std(cc)))\n",
    "# print(str(np.mean(asl))+' '+str(np.std(asl)))"
   ]
  },
  {
   "cell_type": "code",
   "execution_count": null,
   "metadata": {},
   "outputs": [],
   "source": [
    "def motif_significance(graph, epochs_1 = 50, index = 6):\n",
    "    nodes = graph.nodes\n",
    "    edges = graph.edges\n",
    "    ffm_main = nsm.motifs(np.array(graph.graph))[index]\n",
    "    print(ffm_main)\n",
    "    motif_count = []\n",
    "    for epoch_1 in range(epochs_1):\n",
    "        random_control = erdos_renyi(nodes, edges)\n",
    "        ffm_count = nsm.motifs(np.array(random_control))[index]\n",
    "        print(ffm_count)\n",
    "        motif_count.append(ffm_count)\n",
    "    return (ffm_main-np.mean(motif_count))/np.std(motif_count)"
   ]
  },
  {
   "cell_type": "code",
   "execution_count": null,
   "metadata": {},
   "outputs": [],
   "source": [
    "# graph = copy.deepcopy(celegans_network)\n",
    "# z_score = motif_significance(graph)\n",
    "# # print(z_score)"
   ]
  },
  {
   "cell_type": "code",
   "execution_count": null,
   "metadata": {},
   "outputs": [],
   "source": [
    "class Motif_Tuning:\n",
    "    \n",
    "    def add_ffm_connection(self, graph, nodes):\n",
    "        i = 0\n",
    "        j = 0\n",
    "        k = 0\n",
    "        while(not (i != j and j != k and k != i and graph[i][j] == 1 and graph[j][k] == 1 and graph[i][k] != 1)):\n",
    "            i = random.randint(0,nodes-1)\n",
    "            j = random.randint(0, nodes-1)\n",
    "            k = random.randint(0, nodes-1)\n",
    "        graph[i][k] = 1\n",
    "        return graph\n",
    "        \n",
    "    def delete_connection(self, graph, nodes):\n",
    "        i = 0\n",
    "        j = 0\n",
    "        while(not (i != j and graph[i][j] == 1)):\n",
    "            i = random.randint(0,nodes-1)\n",
    "            j = random.randint(0, nodes-1)\n",
    "        graph[i][j] = 0\n",
    "        return graph\n",
    "    \n",
    "    def add_connection(self, graph, nodes):\n",
    "        i = 0\n",
    "        j = 0\n",
    "        while(i == j or graph[i][j] == 1):\n",
    "            i = random.randint(0,nodes-1)\n",
    "            j = random.randint(0, nodes-1)\n",
    "        graph[i][j] = 1\n",
    "        return graph\n",
    "    \n",
    "    def delete_ffm_connection(self, graph, nodes):\n",
    "        i = 0\n",
    "        j = 0\n",
    "        k = 0\n",
    "        while(not (i != j and j != k and k != i and graph[i][j] == 1 and graph[j][k] == 1 and graph[i][k] == 1)):\n",
    "            i = random.randint(0,nodes-1)\n",
    "            j = random.randint(0, nodes-1)\n",
    "            k = random.randint(0, nodes-1)\n",
    "        graph[i][k] = 0\n",
    "        return graph\n",
    "        \n",
    "    def increase(self, graph, nodes, ffm):\n",
    "        \n",
    "        flag_1 = 0\n",
    "        while(flag_1 == 0):\n",
    "            graph_ = self.add_ffm_connection(copy.deepcopy(graph), nodes)\n",
    "            flag_2 = 0\n",
    "            while(flag_2 == 0):\n",
    "                graph__ = self.delete_connection(copy.deepcopy(graph_), nodes)\n",
    "                print(nsm.motifs(np.array(graph__))[6])\n",
    "                graph__nx = nx.from_numpy_matrix(np.matrix(graph__), create_using=nx.DiGraph)\n",
    "                if nx.is_weakly_connected(graph__nx) and ffm < nsm.motifs(np.array(graph__))[6]:\n",
    "                    return graph__\n",
    "                if nsm.motifs(np.array(graph__))[6] - ffm == 0:\n",
    "                    flag_2 = 1\n",
    "                    break                                         \n",
    "                \n",
    "            \n",
    "    def decrease(self, graph, nodes, ffm):\n",
    "        \n",
    "        flag_1 = 0\n",
    "        while(flag_1 == 0):\n",
    "            graph_ = self.delete_ffm_connection(copy.deepcopy(graph), nodes)\n",
    "            flag_2 = 0\n",
    "            while(flag_2 == 0):\n",
    "                graph__ = self.add_connection(copy.deepcopy(graph_), nodes)\n",
    "                graph__nx = nx.from_numpy_matrix(np.matrix(graph__), create_using=nx.DiGraph)\n",
    "                if (nx.is_weakly_connected(graph__nx)) and (ffm - nsm.motifs(np.array(graph__))[6]>0):\n",
    "                    return graph__\n",
    "                if (not nx.is_weakly_connected(graph__nx)) or (ffm - nsm.motifs(np.array(graph__))[6]>=0):\n",
    "                    flag_2 = 1\n",
    "                    break"
   ]
  },
  {
   "cell_type": "code",
   "execution_count": null,
   "metadata": {},
   "outputs": [],
   "source": [
    "# tuning = Motif_Tuning()\n",
    "# graph = celegans_network.graph\n",
    "# ffm_main = nsm.motifs(np.array(graph))[6]\n",
    "# print(ffm_main)\n",
    "# ffm_increase = tuning.decrease(copy.deepcopy(graph), celegans_network.nodes, ffm_main)\n",
    "# print(nsm.motifs(np.array(ffm_increase))[6])"
   ]
  },
  {
   "cell_type": "code",
   "execution_count": 15,
   "metadata": {},
   "outputs": [],
   "source": [
    "def directed_bipartite(graph):\n",
    "    nodes = len(graph)\n",
    "    B = nx.Graph()\n",
    "#     bipartite = Graph(2*nodes)\n",
    "    left_nodes = range(nodes)\n",
    "    right_nodes = range(nodes, 2*nodes)\n",
    "    B.add_nodes_from(left_nodes, bipartite=0)\n",
    "    B.add_nodes_from(right_nodes, bipartite=1)\n",
    "    for i in range(nodes):\n",
    "        for j in range(nodes):\n",
    "            if graph[i][j] == 1:\n",
    "                B.add_edges_from([(i, nodes+j)])\n",
    "    return B"
   ]
  },
  {
   "cell_type": "code",
   "execution_count": 29,
   "metadata": {},
   "outputs": [],
   "source": [
    "def get_drivers(graph):\n",
    "    G = directed_bipartite(graph)\n",
    "    u = [n for n in G.nodes if G.nodes[n]['bipartite'] == 0]\n",
    "    matching_edges = nx.bipartite.maximum_matching(G, top_nodes=u)\n",
    "    nodes = len(graph)\n",
    "    matching_nodes = []\n",
    "    for key in matching_edges:\n",
    "        matching_nodes.append(matching_edges[key])\n",
    "    count = 0\n",
    "    for i in range(nodes):\n",
    "        if i not in matching_nodes:\n",
    "            count += 1\n",
    "    return count"
   ]
  },
  {
   "cell_type": "code",
   "execution_count": 33,
   "metadata": {},
   "outputs": [
    {
     "ename": "SyntaxError",
     "evalue": "unexpected EOF while parsing (<ipython-input-33-e5faa1677802>, line 18)",
     "output_type": "error",
     "traceback": [
      "\u001b[0;36m  File \u001b[0;32m\"<ipython-input-33-e5faa1677802>\"\u001b[0;36m, line \u001b[0;32m18\u001b[0m\n\u001b[0;31m    def distance_constraint_rewiring(self, graph):\u001b[0m\n\u001b[0m                                                  ^\u001b[0m\n\u001b[0;31mSyntaxError\u001b[0m\u001b[0;31m:\u001b[0m unexpected EOF while parsing\n"
     ]
    }
   ],
   "source": [
    "class Synaptic_Rewiring:\n",
    "    \n",
    "    def random_rewiring(self, graph):\n",
    "        for i in range(len(graph)):\n",
    "            j = random.randint(0, nodes-1)\n",
    "            while(not(i != j and graph[i][j] == 0)):\n",
    "                j = random.randint(0, nodes-1)\n",
    "            graph[i][j] = 1\n",
    "            k = random.randint(0, nodes-1)\n",
    "            l = random.randint(0, nodes-1)\n",
    "            while(not(k != l and graph[k][l] == 1)):\n",
    "                k = random.randint(0, nodes-1)\n",
    "                l = random.randint(0, nodes-1)\n",
    "            graph[k][l] = 0    \n",
    "        return graph\n",
    "    \n",
    "#     def distance_constraint_rewiring(self, graph, beta = 3):\n",
    "        "
   ]
  },
  {
   "cell_type": "code",
   "execution_count": null,
   "metadata": {},
   "outputs": [],
   "source": []
  }
 ],
 "metadata": {
  "kernelspec": {
   "display_name": "Python 3",
   "language": "python",
   "name": "python3"
  },
  "language_info": {
   "codemirror_mode": {
    "name": "ipython",
    "version": 3
   },
   "file_extension": ".py",
   "mimetype": "text/x-python",
   "name": "python",
   "nbconvert_exporter": "python",
   "pygments_lexer": "ipython3",
   "version": "3.6.8"
  }
 },
 "nbformat": 4,
 "nbformat_minor": 4
}
