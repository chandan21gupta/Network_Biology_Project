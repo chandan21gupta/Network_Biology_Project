{
 "cells": [
  {
   "cell_type": "code",
   "execution_count": 1,
   "metadata": {},
   "outputs": [],
   "source": [
    "from graph_construction import *\n",
    "import networkx as nx\n",
    "import numpy as np\n",
    "from motifs_analysis import *\n",
    "import matplotlib.pyplot as plt"
   ]
  },
  {
   "cell_type": "code",
   "execution_count": 2,
   "metadata": {},
   "outputs": [],
   "source": [
    "'''\n",
    "Generate Graph\n",
    "'''\n",
    "celegans_network = construct_graph()"
   ]
  },
  {
   "cell_type": "code",
   "execution_count": 3,
   "metadata": {},
   "outputs": [
    {
     "name": "stdout",
     "output_type": "stream",
     "text": [
      "0.17198864696251312\n",
      "3.4332129963898916\n"
     ]
    }
   ],
   "source": [
    "'''\n",
    "Get Graph Theoretical Parameters for the Dataset\n",
    "'''\n",
    "G = nx.from_numpy_matrix(np.matrix(celegans_network.graph), create_using=nx.DiGraph)\n",
    "print(nx.average_clustering(G))\n",
    "print(nx.average_shortest_path_length(G))"
   ]
  },
  {
   "cell_type": "code",
   "execution_count": 4,
   "metadata": {},
   "outputs": [
    {
     "name": "stdout",
     "output_type": "stream",
     "text": [
      "0.02784570107403594 0.001279400655568816\n",
      "2.9849751478051587 0.01035292006883948\n",
      "0.26 0.48207883172775795\n"
     ]
    }
   ],
   "source": [
    "'''\n",
    "Get Graph Theoretical Parameters for Erdos Renyi random control\n",
    "'''\n",
    "nodes = G.number_of_nodes()\n",
    "edges = G.number_of_edges()\n",
    "cc = []\n",
    "asl = []\n",
    "driver_nodes = []\n",
    "for i in range(50):\n",
    "    random_control = erdos_renyi(nodes, edges)\n",
    "    G_ = nx.from_numpy_matrix(np.matrix(random_control), create_using=nx.DiGraph)\n",
    "    cc.append(nx.average_clustering(G_))\n",
    "    asl.append(nx.average_shortest_path_length(G_))\n",
    "    driver_nodes.append(get_drivers(random_control))\n",
    "print(str(np.mean(cc))+' '+str(np.std(cc)))\n",
    "print(str(np.mean(asl))+' '+str(np.std(asl)))\n",
    "print(str(np.mean(driver_nodes))+' '+str(np.std(driver_nodes)))"
   ]
  },
  {
   "cell_type": "code",
   "execution_count": 5,
   "metadata": {},
   "outputs": [
    {
     "name": "stdout",
     "output_type": "stream",
     "text": [
      "[-12.824212783378412, 8.459218350362608, 2.10140629852404, 56.523053663245, 28.047652042452906, 26.645079330309894, -5.926869080006031, 98.63764626611457, 42.318413537879316, 145.26025063776282, 133.92768401261105, 284.90797718180943, 160.70554665994803]\n",
      "[   -1    -1    -1 12049  8075  7355  1521  2633  2385    67   281   170\n",
      "   487   299   139    16]\n"
     ]
    }
   ],
   "source": [
    "'''\n",
    "Motif Significance Test\n",
    "'''\n",
    "graph = copy.deepcopy(celegans_network)\n",
    "z_scores = []\n",
    "for index in range(3,9):\n",
    "    z_scores.append(motif_significance(graph, epochs_1 = 100, index = index))\n",
    "print(z_scores)\n",
    "print(nsm.motifs(np.array(graph.graph)))"
   ]
  },
  {
   "cell_type": "code",
   "execution_count": null,
   "metadata": {},
   "outputs": [],
   "source": [
    "'''\n",
    "Number of Driver Nodes for Dataset\n",
    "'''\n",
    "graph = copy.deepcopy(celegans_network)\n",
    "driver_nodes = get_drivers(graph.graph)\n",
    "print(driver_nodes)"
   ]
  },
  {
   "cell_type": "code",
   "execution_count": null,
   "metadata": {},
   "outputs": [],
   "source": [
    "def wrong_ffms(graph):\n",
    "    nodes = len(graph)\n",
    "    count = 0\n",
    "    print('here')\n",
    "    for i in range(nodes):\n",
    "        for j in range(nodes):\n",
    "            if i != j and graph[i][j] == 1:\n",
    "                for k in range(nodes):\n",
    "                    if k != i and k != j and graph[i][k] == 1 and graph[j][k] == 1:\n",
    "                        count += 1\n",
    "    return count"
   ]
  },
  {
   "cell_type": "code",
   "execution_count": null,
   "metadata": {},
   "outputs": [],
   "source": [
    "ffm_increase = celegans_network.graph\n",
    "print(wrong_ffms(ffm_increase))"
   ]
  },
  {
   "cell_type": "code",
   "execution_count": null,
   "metadata": {},
   "outputs": [],
   "source": [
    "'''\n",
    "Celegans response on increase/decrease in FFMs\n",
    "'''\n",
    "tuning = Motif_Tuning()\n",
    "ffm_increase = celegans_network.graph\n",
    "# print(ffm_main)\n",
    "# ffm_s = tuning.decrease(copy.deepcopy(ffm_increase), celegans_network.nodes, ffm_main)\n",
    "# print(wrong_ffms(ffm_s))\n",
    "ffm_main = nsm.motifs(np.array(ffm_increase))[6]\n",
    "# ffm_main = wrong_ffms(ffm_increase)\n",
    "driver_nodes_y = [driver_nodes]\n",
    "ffms_x = [ffm_main]\n",
    "for i in range(50):\n",
    "    print(i)\n",
    "    ffm_increase = tuning.increase(copy.deepcopy(ffm_increase), celegans_network.nodes, ffm_main)\n",
    "    ffms_x.append(nsm.motifs(np.array(ffm_increase))[6])\n",
    "#     ffms_x.append(wrong_ffms(ffm_increase))\n",
    "    driver_nodes_y.append(get_drivers(ffm_increase))"
   ]
  },
  {
   "cell_type": "code",
   "execution_count": null,
   "metadata": {},
   "outputs": [],
   "source": [
    "plt.plot(ffms_x, driver_nodes_y, 'g^')\n",
    "plt.ylabel('Dn')\n",
    "plt.xlabel('FFMs')\n",
    "plt.title('Celegans reponse to increase in feed forward motifs')\n",
    "plt.show()"
   ]
  },
  {
   "cell_type": "code",
   "execution_count": null,
   "metadata": {},
   "outputs": [],
   "source": [
    "random_control = erdos_renyi(celegans_network.nodes, celegans_network.edges)\n",
    "tuning = Motif_Tuning()\n",
    "ffm_decrease = random_control\n",
    "# print(ffm_main)\n",
    "# ffm_s = tuning.decrease(copy.deepcopy(ffm_increase), celegans_network.nodes, ffm_main)\n",
    "# print(wrong_ffms(ffm_s))\n",
    "ffm_main = nsm.motifs(np.array(random_control))[6]\n",
    "# ffm_main = wrong_ffms(ffm_increase)\n",
    "driver_nodes_y = []\n",
    "ffms_x = []\n",
    "for i in range(50):\n",
    "    print(i)\n",
    "    ffm_decrease = tuning.decrease(copy.deepcopy(ffm_decrease), celegans_network.nodes, ffm_main)\n",
    "    ffms_x.append(nsm.motifs(np.array(ffm_decrease))[6])\n",
    "#     ffms_x.append(wrong_ffms(ffm_increase))\n",
    "    driver_nodes_y.append(get_drivers(ffm_decrease))"
   ]
  },
  {
   "cell_type": "code",
   "execution_count": null,
   "metadata": {},
   "outputs": [],
   "source": [
    "plt.plot(ffms_x, driver_nodes_y, 'g^')\n",
    "plt.ylabel('Dn')\n",
    "plt.xlabel('FFMs')\n",
    "plt.title('Erdos Renyi random control to decrease in feed forward motifs')\n",
    "plt.show()"
   ]
  },
  {
   "cell_type": "code",
   "execution_count": null,
   "metadata": {},
   "outputs": [],
   "source": []
  }
 ],
 "metadata": {
  "kernelspec": {
   "display_name": "Python 3",
   "language": "python",
   "name": "python3"
  },
  "language_info": {
   "codemirror_mode": {
    "name": "ipython",
    "version": 3
   },
   "file_extension": ".py",
   "mimetype": "text/x-python",
   "name": "python",
   "nbconvert_exporter": "python",
   "pygments_lexer": "ipython3",
   "version": "3.6.8"
  }
 },
 "nbformat": 4,
 "nbformat_minor": 4
}
